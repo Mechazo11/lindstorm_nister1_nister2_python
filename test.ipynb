{
 "cells": [
  {
   "cell_type": "markdown",
   "metadata": {},
   "source": [
    "### Script to try out a dummy problem"
   ]
  },
  {
   "cell_type": "code",
   "execution_count": 2,
   "metadata": {},
   "outputs": [
    {
     "name": "stdout",
     "output_type": "stream",
     "text": [
      "X -- [[ 1.00277401  2.00861221  3.01259262  1.00350119  2.01054271]\n",
      " [ 4.01217993  4.01031008  4.01743742  4.02958919  4.01894571]\n",
      " [11.01977924 12.02856882 13.04163081 12.09159201 13.05497299]\n",
      " [ 1.          1.          1.          1.          1.        ]]\n",
      "\n",
      "\n",
      "x1 -- [[0.09099765 0.1669868  0.23099815 0.08299165 0.15400589]\n",
      " [0.36408896 0.33339877 0.30804717 0.33325547 0.30784788]\n",
      " [1.         1.         1.         1.         1.        ]]\n",
      "\n",
      "\n",
      "x2 -- [[0.42002058 0.53709198 0.64501084 0.43105651 0.5379664 ]\n",
      " [0.38890031 0.37453153 0.36194222 0.35671333 0.34517832]\n",
      " [1.         1.         1.         1.         1.        ]]\n",
      "\n",
      "\n"
     ]
    }
   ],
   "source": [
    "# Example taken from https://pythonpath.wordpress.com/2012/08/29/cv2-triangulatepoints/\n",
    "\n",
    "# Includes\n",
    "import cv2\n",
    "import numpy as np\n",
    "\n",
    "\n",
    "# Camera projection matrices\n",
    "P1 = np.eye(4)\n",
    "P2 = np.array([[ 0.878, -0.01 ,  0.479, -1.995],\n",
    "            [ 0.01 ,  1.   ,  0.002, -0.226],\n",
    "            [-0.479,  0.002,  0.878,  0.615],\n",
    "            [ 0.   ,  0.   ,  0.   ,  1.   ]])\n",
    "\n",
    "# Observations of some points matched in two images\n",
    "a3xN = np.array([[ 0.091,  0.167,  0.231,  0.083,  0.154],\n",
    "              [ 0.364,  0.333,  0.308,  0.333,  0.308],\n",
    "              [ 1.   ,  1.   ,  1.   ,  1.   ,  1.   ]])\n",
    "\n",
    "b3xN = np.array([[ 0.42 ,  0.537,  0.645,  0.431,  0.538],\n",
    "              [ 0.389,  0.375,  0.362,  0.357,  0.345],\n",
    "              [ 1.   ,  1.   ,  1.   ,  1.   ,  1.   ]])\n",
    "\n",
    "# The cv2 method\n",
    "X = cv2.triangulatePoints( P1[:3], P2[:3], a3xN[:2], b3xN[:2] ) # Why not make -1\n",
    "\n",
    "# now lindstorm`s implementation should also give us the same thing here\n",
    "\n",
    "# Remember to divide out the 4th row. Make it homogeneous\n",
    "X /= X[3]\n",
    "\n",
    "# Recover the origin arrays from PX\n",
    "x1 = np.dot(P1[:3],X)\n",
    "x2 = np.dot(P2[:3],X)\n",
    "\n",
    "# Again, put in homogeneous form before using them\n",
    "x1 /= x1[2]\n",
    "x2 /= x2[2]\n",
    "\n",
    "print(f\"X -- {X}\\n\\n\")\n",
    "print(f\"x1 -- {x1}\\n\\n\")\n",
    "print(f\"x2 -- {x2}\\n\\n\")"
   ]
  }
 ],
 "metadata": {
  "kernelspec": {
   "display_name": "csc7135",
   "language": "python",
   "name": "python3"
  },
  "language_info": {
   "codemirror_mode": {
    "name": "ipython",
    "version": 3
   },
   "file_extension": ".py",
   "mimetype": "text/x-python",
   "name": "python",
   "nbconvert_exporter": "python",
   "pygments_lexer": "ipython3",
   "version": "3.11.5"
  }
 },
 "nbformat": 4,
 "nbformat_minor": 2
}
